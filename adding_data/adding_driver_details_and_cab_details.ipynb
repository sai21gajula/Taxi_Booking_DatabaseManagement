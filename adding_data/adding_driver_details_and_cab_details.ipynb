{
 "cells": [
  {
   "cell_type": "code",
   "execution_count": 1,
   "id": "e32c8d98",
   "metadata": {},
   "outputs": [],
   "source": [
    "import pandas as pd"
   ]
  },
  {
   "cell_type": "code",
   "execution_count": 8,
   "id": "f392e240",
   "metadata": {},
   "outputs": [],
   "source": [
    "from mysql.connector import connect,Error\n",
    "password1='Siri1969'\n",
    "try:\n",
    "    conn=connect(\n",
    "        host='localhost',\n",
    "        port='3306',\n",
    "        user='root',\n",
    "        password='Siri1969',\n",
    "        database='taxi_booking'\n",
    "    \n",
    "    )\n",
    "except Error as e:\n",
    "    print(e)"
   ]
  },
  {
   "cell_type": "markdown",
   "id": "7f40bfb1",
   "metadata": {},
   "source": [
    "# adding data into Driver table"
   ]
  },
  {
   "cell_type": "code",
   "execution_count": 9,
   "id": "bbfceda2",
   "metadata": {},
   "outputs": [],
   "source": [
    "excel_file='driver_df.xlsx'\n",
    "data = pd.read_excel(excel_file)"
   ]
  },
  {
   "cell_type": "code",
   "execution_count": 10,
   "id": "57156089",
   "metadata": {},
   "outputs": [
    {
     "name": "stdout",
     "output_type": "stream",
     "text": [
      "Data inserted successfully\n"
     ]
    }
   ],
   "source": [
    "cursor = conn.cursor()\n",
    "table_name='Driver'\n",
    "for index, row in data.iterrows():\n",
    "    query = f\"INSERT INTO {table_name} ( driver_first_name, driver_last_name,working_hours,license_no,phone_num,driver_email,driver_pass,rating) VALUES (%s, %s, %s, %s, %s,%s,%s,%s)\"  # Adjust column names\n",
    "    values = ( row['driver_first_name'],row['driver_last_name'],row['working_hours'],row['license_no'], row['phone_num'],row['driver_email'],row['driver_pass'],row['rating'])  # Adjust column names as per your Excel columns\n",
    "    cursor.execute(query, values)\n",
    "\n",
    "conn.commit()\n",
    "print(\"Data inserted successfully\")"
   ]
  },
  {
   "cell_type": "markdown",
   "id": "e1f247af",
   "metadata": {},
   "source": [
    "# adding data into Cars_details table"
   ]
  },
  {
   "cell_type": "code",
   "execution_count": 11,
   "id": "8165c2a2",
   "metadata": {},
   "outputs": [],
   "source": [
    "excel_file_2='cars_df.xlsx'\n",
    "data2 = pd.read_excel(excel_file_2)"
   ]
  },
  {
   "cell_type": "code",
   "execution_count": 12,
   "id": "236740b7",
   "metadata": {},
   "outputs": [
    {
     "name": "stdout",
     "output_type": "stream",
     "text": [
      "Data inserted successfully\n"
     ]
    }
   ],
   "source": [
    "cursor = conn.cursor()\n",
    "table_name='Cab_details'\n",
    "for index, row in data2.iterrows():\n",
    "#     print(row)\n",
    "    query = f\"INSERT INTO {table_name} (licence_plate_no, model, brand, max_seats, manufacture_year, Driverdriver_id) VALUES (%s, %s, %s, %s, %s, %s)\"\n",
    "    values = (row['licence_plate_no'], row['model'], row['brand'], row['max_seats'], row['manufacture_year'], row['Driverdriver_id'])\n",
    "    \n",
    "    cursor.execute(query, values)\n",
    "\n",
    "conn.commit()\n",
    "print(\"Data inserted successfully\")"
   ]
  },
  {
   "cell_type": "code",
   "execution_count": null,
   "id": "8d33a38a",
   "metadata": {},
   "outputs": [],
   "source": []
  },
  {
   "cell_type": "code",
   "execution_count": null,
   "id": "a5e24f43",
   "metadata": {},
   "outputs": [],
   "source": []
  }
 ],
 "metadata": {
  "kernelspec": {
   "display_name": "Python 3 (ipykernel)",
   "language": "python",
   "name": "python3"
  },
  "language_info": {
   "codemirror_mode": {
    "name": "ipython",
    "version": 3
   },
   "file_extension": ".py",
   "mimetype": "text/x-python",
   "name": "python",
   "nbconvert_exporter": "python",
   "pygments_lexer": "ipython3",
   "version": "3.11.4"
  }
 },
 "nbformat": 4,
 "nbformat_minor": 5
}
